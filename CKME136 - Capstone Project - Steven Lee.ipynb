{
 "cells": [
  {
   "cell_type": "markdown",
   "metadata": {},
   "source": [
    "# CKME136 - Capstone Project - Steven Lee\n",
    "### Toronto Real Estate Listings"
   ]
  },
  {
   "cell_type": "markdown",
   "metadata": {},
   "source": [
    "### 1. Imports for webscraping and data cleaning"
   ]
  },
  {
   "cell_type": "code",
   "execution_count": 1,
   "metadata": {},
   "outputs": [],
   "source": [
    "import csv\n",
    "import itertools\n",
    "import re\n",
    "import requests\n",
    "import time\n",
    "\n",
    "from bs4 import BeautifulSoup\n",
    "# Beautiful Soup Documentation: https://www.crummy.com/software/BeautifulSoup/bs4/doc/"
   ]
  },
  {
   "cell_type": "markdown",
   "metadata": {},
   "source": [
    "### 2. Create a list of all toronto listing pages"
   ]
  },
  {
   "cell_type": "code",
   "execution_count": 5,
   "metadata": {},
   "outputs": [
    {
     "data": {
      "text/plain": [
       "['https://listing.ca/mls/?.cy.........1..$',\n",
       " 'https://listing.ca/mls/?.cy.........2..$',\n",
       " 'https://listing.ca/mls/?.cy.........3..$',\n",
       " 'https://listing.ca/mls/?.cy.........4..$']"
      ]
     },
     "execution_count": 5,
     "metadata": {},
     "output_type": "execute_result"
    }
   ],
   "source": [
    "#example list page https://listing.ca/mls/?.cy.........12..$\n",
    "listing_page_urls = []\n",
    "def all_listing_page_urls(url_start, url_end):\n",
    "    for i in range(1,175):\n",
    "        generated_urls = url_start+str(i)+url_end\n",
    "        listing_page_urls.append(generated_urls)\n",
    "\n",
    "toronto_listing_url_start = 'https://listing.ca/mls/?.cy.........'\n",
    "toronto_listing_url_end = '..$'\n",
    "\n",
    "all_listing_page_urls(toronto_listing_url_start, toronto_listing_url_end)\n",
    "\n",
    "listing_page_urls[:4]"
   ]
  },
  {
   "cell_type": "markdown",
   "metadata": {},
   "source": [
    "### 3. Create list of specific listing urls"
   ]
  },
  {
   "cell_type": "code",
   "execution_count": 3,
   "metadata": {},
   "outputs": [],
   "source": [
    "def individual_listing_urls(listing_page_urls):\n",
    "    #create empty list\n",
    "    all_page_text = []\n",
    "    #extract html from list of page urls\n",
    "    for page_url in listing_page_urls:\n",
    "        resp = requests.get(page_url).text\n",
    "        soup = BeautifulSoup(resp)\n",
    "        page_text = soup.find_all('a')\n",
    "        all_page_text.extend(page_text)\n",
    "        time.sleep(2)\n",
    "    #extract urls from each text\n",
    "    urls = [x.get(\"href\") for x in all_page_text]\n",
    "    #regex for urls that are street numbers\n",
    "    r = re.compile('https://toronto.listing.ca/[0-9]')\n",
    "    #create unique list of listing urls\n",
    "    individual_listing_urls = list(set(filter(r.match, urls)))\n",
    "    return individual_listing_urls\n"
   ]
  },
  {
   "cell_type": "code",
   "execution_count": 218,
   "metadata": {},
   "outputs": [],
   "source": [
    "#individual_listing_urls\n",
    "individual_listing_urls = individual_listing_urls(listing_page_urls)"
   ]
  },
  {
   "cell_type": "code",
   "execution_count": 8,
   "metadata": {},
   "outputs": [],
   "source": [
    "#create a test set of listing urls\n",
    "test = listing_page_urls[:4]\n",
    "test_1 = individual_listing_urls(test)\n",
    "test_1 = test_1[5:8]"
   ]
  },
  {
   "cell_type": "code",
   "execution_count": 9,
   "metadata": {},
   "outputs": [
    {
     "data": {
      "text/plain": [
       "['https://toronto.listing.ca/88-scott-st-504.C4361608.htm#15-l',\n",
       " 'https://toronto.listing.ca/60-fairfax-cres-414.E4361425.htm#15-w',\n",
       " 'https://toronto.listing.ca/70-baylawn-dr.E4361632.htm#15-c']"
      ]
     },
     "execution_count": 9,
     "metadata": {},
     "output_type": "execute_result"
    }
   ],
   "source": [
    "test_1"
   ]
  },
  {
   "cell_type": "markdown",
   "metadata": {},
   "source": [
    "### 4. Create a CSV of raw html text"
   ]
  },
  {
   "cell_type": "code",
   "execution_count": 215,
   "metadata": {},
   "outputs": [],
   "source": [
    "import sys\n",
    "reload(sys)\n",
    "sys.setdefaultencoding('utf-8')\n",
    "\n",
    "def raw_indiviudal_listing_scraper(individual_listing_urls):\n",
    "    with open('test.csv','w') as f1:\n",
    "        writer = csv.writer(f1, delimiter=',',lineterminator='\\n',)\n",
    "        \n",
    "        for listing in individual_listing_urls:\n",
    "            resp = [requests.get(listing).text]\n",
    "        \n",
    "        writer.writerow(resp)\n",
    "        \n",
    "raw_indiviudal_listing_scraper(test_1)"
   ]
  },
  {
   "cell_type": "code",
   "execution_count": 214,
   "metadata": {},
   "outputs": [],
   "source": [
    "with open('test.csv') as csv_file:\n",
    "    csv_reader = csv.reader(csv_file, delimiter=',')\n",
    "    \n",
    "    for row in csv_reader:\n",
    "        print row"
   ]
  },
  {
   "cell_type": "code",
   "execution_count": 20,
   "metadata": {},
   "outputs": [
    {
     "data": {
      "text/plain": [
       "['https://toronto.listing.ca/88-scott-st-504.C4361608.htm#15-l',\n",
       " 'https://toronto.listing.ca/60-fairfax-cres-414.E4361425.htm#15-w',\n",
       " 'https://toronto.listing.ca/70-baylawn-dr.E4361632.htm#15-c']"
      ]
     },
     "execution_count": 20,
     "metadata": {},
     "output_type": "execute_result"
    }
   ],
   "source": [
    "test_1"
   ]
  },
  {
   "cell_type": "markdown",
   "metadata": {},
   "source": [
    "### 5. Extract listing features from individual listing urls"
   ]
  },
  {
   "cell_type": "code",
   "execution_count": 22,
   "metadata": {},
   "outputs": [
    {
     "name": "stdout",
     "output_type": "stream",
     "text": [
      "[{u'LIVING ROOM': u'Flat Level, 4.89m x 3.90mWood Floor, Combined W/Dining, East View', u'MASTER BEDROOM': u'Flat Level, 5.78m x 3.37mEnsuite Bath, Irregular Rm, Double Closet', u'DINING ROOM': u'Flat Level, 4.89m x 3.90mWood Floor, Combined W/Living', u'BATHROOMS': u'4-piece on flat level4-piece on flat level', u'KITCHEN': u'Flat Level, 3.55m x 3.52mStainless Steel Appl, Quartz Counter, O/Looks Living', u'2ND BEDROOM': u'Flat Level, 4.70m x 4.53mEnsuite Bath, Wood Floor, Closet'}]\n",
      "[{u'BATHROOM': u'Main Level, 1.52m x 1.55mCeramic Floor', u'LIVING ROOM': u'Main Level, 5.54m x 2.80mLaminate, W/O To Balcony', u'MASTER BEDROOM': u'Main Level, 3.93m x 2.46mLaminate, Closet', u'BATHROOMS': u'3-piece on main level', u'KITCHEN': u'Main Level, 2.49m x 2.74mCeramic Floor, Granite Counter, Stainless Steel Appl', u'2ND BEDROOM': u'Main Level, 3.07m x 2.22mLaminate, Closet, French Doors'}]\n",
      "[{u'LIVING ROOM': u'Ground Level, 3.30m x 5.56mParquet Floor, Sunken Room, W/O To Yard', u'MASTER BEDROOM': u'2nd Level, 5.13m x 3.48mParquet Floor, His/Hers Closets, Large Window', u'3RD BEDROOM': u'2nd Level, 2.87m x 3.66mParquet Floor, Closet, Window', u'DINING ROOM': u'Ground Level, 2.79m x 3.43mParquet Floor, O/Looks Living', u'REC': u'Bsmt Level, 8.89m x 5.36mBroadloom', u'BATHROOMS': u'2-piece on ground level4-piece on 2nd level3-piece on bsmt level', u'KITCHEN': u'Ground Level, 3.24m x 3.23mBreakfast Bar, Ceramic Floor', u'2ND BEDROOM': u'2nd Level, 5.13m x 3.48mParquet Floor, His/Hers Closets, Large Window'}]\n"
     ]
    }
   ],
   "source": [
    "#to extract rooms data from a listing\n",
    "def rooms_indiviudal_listing_scraper(urls):\n",
    "\n",
    "    for listing in urls:\n",
    "        resp = requests.get(listing).text\n",
    "        soup = BeautifulSoup(resp, 'html.parser')\n",
    "        \n",
    "        regex = re.compile('([0-9]){2}')\n",
    "        content = soup.findAll(\"div\", {\"class\": \"lpc15\"})[2].text\n",
    "        if re.match(regex, content) is None:\n",
    "            start_range = 8\n",
    "        else:\n",
    "            start_range = 10\n",
    "            \n",
    "        rooms = soup.findAll(\"div\", {\"class\": \"lpc15\"})[start_range:]\n",
    "        rooms_string = \"\".join(map(str, rooms))\n",
    "        rooms_soup = BeautifulSoup(rooms_string, 'html.parser')\n",
    "        rooms_soup_range = len(rooms_soup)\n",
    "        \n",
    "        room_keys = []\n",
    "        room_values = []\n",
    "        for i in range(start_range, start_range+rooms_soup_range):\n",
    "            value = soup.findAll(\"div\", {\"class\": \"lpc15\"})[i].text\n",
    "            key_extract = str(soup.findAll(\"div\", {\"class\": \"lpc15\"})[i].previousSibling)\n",
    "            key = BeautifulSoup(key_extract).text\n",
    "            \n",
    "            room_keys.append(key)\n",
    "            room_values.append(value)\n",
    "            \n",
    "        rooms_dict = dict(zip(room_keys, room_values))\n",
    "\n",
    "        print [rooms_dict]\n",
    "\n",
    "rooms_indiviudal_listing_scraper(test_1)"
   ]
  },
  {
   "cell_type": "code",
   "execution_count": 235,
   "metadata": {},
   "outputs": [],
   "source": [
    "resp = requests.get('https://toronto.listing.ca/37-meadowcliffe-dr.E4317312.htm#15-4').text\n",
    "print resp"
   ]
  },
  {
   "cell_type": "code",
   "execution_count": 23,
   "metadata": {},
   "outputs": [
    {
     "name": "stdout",
     "output_type": "stream",
     "text": [
      "['https://toronto.listing.ca/88-scott-st-504.C4361608.htm#15-l', u'$999,000', u'02/18/2019', u'88 Scott St 504, Church-Yonge Corridor, Toronto M5E0A9', u'Apartment, Condo Apartment5 Rooms Total, 1 Kitchen1 Parking Space', u'$1,195,000', u'$1,199,800', u'11/08/2018', u'$830,500', u'$799,800', u'10/29/2018', u'$1,300,069', u'$1,249,000', u'09/26/2018', u'$907,000', u'$929,000', u'01/23/2019', u'$685,000', u'$659,000', u'01/16/2019', [u'Hospital, Park, Place Of Worship, Public Transit, SchoolNone BasementConcrete, Stone Exterior'], [u'Unbeatable Location! This Gorgeous, Capacious, Bright And Airy, Brand New, 2 Bed, 2 Ensuite Bathsuite Is Located Steps From The Fin District, Union Station, St Lawrence Mkt, 24 Hr Metro, Ttc. Located On The Top Floor Of The Historic Loft Podium Of The Building, This Stunning Suite Boasts Soaring 11Ft Ceilings, Open Concept Living Area, Split Bedroom Plan For Maximum Privacy And Overlooks Quiet Scott St. Tons Of Storage Throughout. Parking And Locker Included.'], [u\"Integrated Fridge & D/W, Double Sink, Glass Cooktop, B/I Stainless Steel Oven, Micro & Hood Vent. Stacked Full-Size W/D. Window Blinds & Electrical Lighting Fixtures. State Of Art Amenities; Indoor Pool, Stunning 2-Storey Skye Lounge, Rooftop Terrace W Bbq's, Dry&Steam; Saunas\"]]\n",
      "['https://toronto.listing.ca/60-fairfax-cres-414.E4361425.htm#15-w', u'$399,000', u'02/18/2019', u'60 Fairfax Cres 414, Clairlea-Birchmount, Toronto M1L0E1', u'Apartment, Condo Apartment5 Rooms Total, 1 Kitchen1 Parking Space', u'$428,000', u'$428,000', u'09/24/2018', u'$427,000', u'$399,000', u'01/16/2019', u'$391,000', u'$350,000', u'04/18/2018', u'$427,500', u'$399,900', u'12/10/2018', u'$380,000', u'$350,000', u'03/13/2018', [u'Library, Park, Place Of Worship, Public Transit, Rec Centre, SchoolNone BasementConcrete, Other Exterior'], [u'Beautiful And Well Maintained 692 Sq. Ft Two Bedroom Unit With Parking, Locker And Balcony. Bright And Spacious With Laminate Floors And Stainless Steel Appliances. Conveniently Located Close To Warden Station, Upcoming Eglinton Lrt, Shopping, Parks, Schools And Much More ! Shows Like New. Great For First-Time Buyers Or Investors. Must See.'], [u'Parking & Locker Included! Gym, Library, Party Room, Roof-Top Garden With Bbqs. Custom Blinds In Living-Room, 3 Bar Stools, Stainless Steel Whirpool Gold Series Fridge, Stainless Steel Glass-Top Stove, Stainless Steel Dishwasher, Lg Washer/Dryer And All Electrical Lighting Fixtures.']]\n",
      "['https://toronto.listing.ca/70-baylawn-dr.E4361632.htm#15-c', u'$728,000', u'02/18/2019', u'70 Baylawn Dr, Agincourt South-Malvern West, Toronto M1S3M3', u'2-Storey, Linked House7 + 1 Rooms Total, 1 Kitchen2 Parking Spaces', u'$735,000', u'$760,000', u'08/29/2018', u'$755,000', u'$775,000', u'04/11/2018', u'$780,000', u'$829,000', u'01/31/2019', u'$695,000', u'$688,800', u'10/05/2018', u'$740,000', u'$749,900', u'12/27/2018', [u'Library, Park, Place Of Worship, Public Transit, SchoolFinished, Full BasementAlum Siding, Brick Exterior'], [u'Opportunity To Move In Finch/Midland Neighborhood! Welcome To Visit This 3-Bedroom 2-Storey Home Steps Away From School, Church, Shopping Plaza, Medical Clinic, Ttc & Other Amenities.'], [u'Fridge,Stove,Washer,Central Air Conditioning,Central Vac. All Window Coverings, All Electric Light Fixtures Excluding Chandelier In Dining Area.']]\n"
     ]
    }
   ],
   "source": [
    "#to extract features from a listing including sale price, sold comparables, listing url, address, community, type of dwelling, property, features, description, extras\n",
    "def other_features_indiviudal_listing_scraper(individual_listing_urls):\n",
    "\n",
    "        for listing in individual_listing_urls:\n",
    "            resp = requests.get(listing).text\n",
    "            soup = BeautifulSoup(resp, 'html.parser')\n",
    "            \n",
    "            #listing url and MLS ID\n",
    "            x = [listing]\n",
    "            \n",
    "            #sale price and listing date\n",
    "            x.append(soup.find(\"div\", {\"class\": \"sales\"}).findChildren()[3].text)\n",
    "            x.append(soup.find(\"div\", {\"class\": \"sales\"}).findChildren()[1].text)\n",
    "            \n",
    "            #address, community\n",
    "            x.extend([soup.findAll(\"div\", {\"class\": \"lpc15\"})[0].text])\n",
    "            \n",
    "            #type of dwelling\n",
    "            x.extend([soup.findAll(\"div\", {\"class\": \"lpc15\"})[1].text])\n",
    "            \n",
    "            #Comparables\n",
    "            comparables_class = soup.find(\"div\", {\"class\": \"sales\", \"class\": \"comparables\"})\n",
    "            \n",
    "            comparable_sold_price_1 = comparables_class.find(text=re.compile('Sold Price')).findNext('div').contents[0]\n",
    "            comparable_list_price_1 = comparables_class.find(text=re.compile('List Price')).findNext('div').contents[0]\n",
    "            comparable_sold_date_1 = comparables_class.find(text=re.compile('Sold Date')).findNext('div').contents[0]\n",
    "            \n",
    "            comparable_sold_price_2 = comparables_class.find(text=re.compile('Sold Price')).findNext(text=re.compile('Sold Price')).findNext('div').contents[0]\n",
    "            comparable_list_price_2 = comparables_class.find(text=re.compile('List Price')).findNext(text=re.compile('List Price')).findNext('div').contents[0]\n",
    "            comparable_sold_date_2 = comparables_class.find(text=re.compile('Sold Date')).findNext(text=re.compile('Sold Date')).findNext('div').contents[0]\n",
    "            \n",
    "            comparable_sold_price_3 = comparables_class.find(text=re.compile('Sold Price')).findNext(text=re.compile('Sold Price')).findNext(text=re.compile('Sold Price')).findNext('div').contents[0]\n",
    "            comparable_list_price_3 = comparables_class.find(text=re.compile('List Price')).findNext(text=re.compile('List Price')).findNext(text=re.compile('List Price')).findNext('div').contents[0]\n",
    "            comparable_sold_date_3 = comparables_class.find(text=re.compile('Sold Date')).findNext(text=re.compile('Sold Date')).findNext(text=re.compile('Sold Date')).findNext('div').contents[0]\n",
    "            \n",
    "            comparable_sold_price_4 = comparables_class.find(text=re.compile('Sold Price')).findNext(text=re.compile('Sold Price')).findNext(text=re.compile('Sold Price')).findNext(text=re.compile('Sold Price')).findNext('div').contents[0]\n",
    "            comparable_list_price_4 = comparables_class.find(text=re.compile('List Price')).findNext(text=re.compile('List Price')).findNext(text=re.compile('List Price')).findNext(text=re.compile('List Price')).findNext('div').contents[0]\n",
    "            comparable_sold_date_4 = comparables_class.find(text=re.compile('Sold Date')).findNext(text=re.compile('Sold Date')).findNext(text=re.compile('Sold Date')).findNext(text=re.compile('Sold Date')).findNext('div').contents[0]\n",
    "            \n",
    "            comparable_sold_price_5 = comparables_class.find(text=re.compile('Sold Price')).findNext(text=re.compile('Sold Price')).findNext(text=re.compile('Sold Price')).findNext(text=re.compile('Sold Price')).findNext(text=re.compile('Sold Price')).findNext('div').contents[0]\n",
    "            comparable_list_price_5 = comparables_class.find(text=re.compile('List Price')).findNext(text=re.compile('List Price')).findNext(text=re.compile('List Price')).findNext(text=re.compile('List Price')).findNext(text=re.compile('List Price')).findNext('div').contents[0]\n",
    "            comparable_sold_date_5 = comparables_class.find(text=re.compile('Sold Date')).findNext(text=re.compile('Sold Date')).findNext(text=re.compile('Sold Date')).findNext(text=re.compile('Sold Date')).findNext(text=re.compile('Sold Date')).findNext('div').contents[0]\n",
    "            \n",
    "            x.extend([comparable_sold_price_1, \n",
    "                     comparable_list_price_1, \n",
    "                     comparable_sold_date_1,\n",
    "                     comparable_sold_price_2,\n",
    "                     comparable_list_price_2,\n",
    "                     comparable_sold_date_2,\n",
    "                     comparable_sold_price_3,\n",
    "                     comparable_list_price_3,\n",
    "                     comparable_sold_date_3,\n",
    "                     comparable_sold_price_4,\n",
    "                     comparable_list_price_4,\n",
    "                     comparable_sold_date_4,\n",
    "                     comparable_sold_price_5,\n",
    "                     comparable_list_price_5,\n",
    "                     comparable_sold_date_5])\n",
    "            \n",
    "            #property features, description, and extras\n",
    "            #required to account for some listings with property layout element\n",
    "            regex = re.compile('([0-9]){2}')\n",
    "            content = soup.findAll(\"div\", {\"class\": \"lpc15\"})[2].text\n",
    "            if re.match(regex, content) is None:\n",
    "                x.append([soup.findAll(\"div\", {\"class\": \"lpc15\"})[2].text])\n",
    "                x.append([soup.findAll(\"div\", {\"class\": \"lpc15\"})[6].text])\n",
    "                x.append([soup.findAll(\"div\", {\"class\": \"lpc15\"})[7].text])\n",
    "                \n",
    "            else:\n",
    "                x.append([soup.findAll(\"div\", {\"class\": \"lpc15\"})[3].text])\n",
    "                x.append([soup.findAll(\"div\", {\"class\": \"lpc15\"})[7].text])\n",
    "                x.append([soup.findAll(\"div\", {\"class\": \"lpc15\"})[8].text])\n",
    "            \n",
    "            print x\n",
    "\n",
    "other_features_indiviudal_listing_scraper(test_1)"
   ]
  },
  {
   "cell_type": "markdown",
   "metadata": {},
   "source": [
    "### 4. Build a cleaner for the data set\n",
    "- categorical variables in extras and property features\n",
    "- light NLP in description\n",
    "- room sizes and organization\n",
    "- comparables section\n",
    "- MLS ID\n",
    "- LAT and LON"
   ]
  },
  {
   "cell_type": "code",
   "execution_count": null,
   "metadata": {},
   "outputs": [],
   "source": []
  },
  {
   "cell_type": "code",
   "execution_count": null,
   "metadata": {},
   "outputs": [],
   "source": []
  },
  {
   "cell_type": "code",
   "execution_count": 152,
   "metadata": {},
   "outputs": [],
   "source": [
    "#code for writing to CSV\n",
    "#dataset keys\n",
    "with open('test.csv','w') as f1:\n",
    "    writer = csv.writer(f1, delimiter=',',lineterminator='\\n',)\n",
    "    writer.writerow(keys)\n",
    "    writer.writerow(x)\n",
    "\n",
    "    dict_writer = csv.DictWriter(f1, keys, extrasaction = 'ignore')\n",
    "    dict_writer.writerows(z)\n",
    "    \n",
    "    keys = ['listing_url', 'sale_price', 'listing_date', 'address','dwelling_type',\n",
    "        'comparable_sold_price_1', 'comparable_list_price_1', 'comparable_sold_date_1',\n",
    "        'comparable_sold_price_2', 'comparable_list_price_2', 'comparable_sold_date_2',\n",
    "        'comparable_sold_price_3', 'comparable_list_price_3', 'comparable_sold_date_3',\n",
    "        'comparable_sold_price_4', 'comparable_list_price_4', 'comparable_sold_date_4',\n",
    "        'comparable_sold_price_5', 'comparable_list_price_5', 'comparable_sold_date_5',\n",
    "        'features', 'description', 'extras',\n",
    "        'BATHROOMS', 'LIVING ROOM', 'DINING ROOM', 'KITCHEN', 'LIBRARY', 'FAMILY ROOM', 'REC', '5TH BEDROOM', '4TH BEDROOM', '3RD BEDROOM', '2ND BEDROOM', 'MASTER BEDROOM', 'OFFICE']"
   ]
  },
  {
   "cell_type": "code",
   "execution_count": 24,
   "metadata": {},
   "outputs": [],
   "source": [
    "# find the term Lot Size\n",
    "# soup.find(\"div\", {\"class\": \"lpc15\"}).findNext(\"div\", {\"class\": \"lpc15\"}).findNext(\"div\", {\"class\": \"lpc15\"}).find_previous_sibling()\n",
    "# soup.find('div', attrs={'style': 'color: #3a5fac; padding-top: 5px; font-size: 18px; '})"
   ]
  },
  {
   "cell_type": "code",
   "execution_count": 100,
   "metadata": {},
   "outputs": [],
   "source": [
    "# !pip install geopy\n",
    "\n",
    "# from geopy.geocoders import Nominatim\n",
    "# geolocator = Nominatim(user_agent=\"specify_your_app_name_here\")\n",
    "# location = geolocator.geocode(\"88 Park Lawn Rd 2717, Mimico, Toronto M8Y0B5\")\n",
    "# print(location.address)\n",
    "# print((location.latitude, location.longitude))\n"
   ]
  },
  {
   "cell_type": "code",
   "execution_count": 119,
   "metadata": {},
   "outputs": [],
   "source": [
    "# Phase 2: Impact of Economic indicators\n",
    "# interest rates ex. Bank of Canada\n",
    "# index price ex. S&P 500 / past months trajectory\n",
    "# Inflation Rate\n",
    "# real estate etfs\n",
    "# Employment Rate"
   ]
  }
 ],
 "metadata": {
  "kernelspec": {
   "display_name": "Python 2",
   "language": "python",
   "name": "python2"
  },
  "language_info": {
   "codemirror_mode": {
    "name": "ipython",
    "version": 2
   },
   "file_extension": ".py",
   "mimetype": "text/x-python",
   "name": "python",
   "nbconvert_exporter": "python",
   "pygments_lexer": "ipython2",
   "version": "2.7.13"
  }
 },
 "nbformat": 4,
 "nbformat_minor": 2
}
