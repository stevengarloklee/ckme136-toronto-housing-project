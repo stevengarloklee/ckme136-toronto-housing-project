{
 "cells": [
  {
   "cell_type": "markdown",
   "metadata": {},
   "source": [
    "# CKME136 - Capstone Project - Toronto Real Estate Listings\n",
    "## Step 2: Feature Engineering - with Pandas"
   ]
  },
  {
   "cell_type": "markdown",
   "metadata": {},
   "source": [
    "<div class=\"alert alert-block alert-info\">\n",
    "2A. Imports for feature engineering"
   ]
  },
  {
   "cell_type": "code",
   "execution_count": 1,
   "metadata": {},
   "outputs": [],
   "source": [
    "import csv\n",
    "import datetime\n",
    "import pandas as pd\n",
    "from ast import literal_eval"
   ]
  },
  {
   "cell_type": "markdown",
   "metadata": {},
   "source": [
    "<div class=\"alert alert-block alert-info\">\n",
    "2B. Read in listing other features"
   ]
  },
  {
   "cell_type": "code",
   "execution_count": 2,
   "metadata": {},
   "outputs": [],
   "source": [
    "# read in individual_listing_other_Features\n",
    "df_other_features = pd.read_csv('individual_listing_other_features_v3.csv')\n",
    "# argument to convert string to list on read\n",
    "# converters={\"listing_features\": literal_eval})\n",
    "\n",
    "# read in individual_listing_rooms\n",
    "df_rooms = pd.read_csv('individual_listing_rooms.csv')"
   ]
  },
  {
   "cell_type": "markdown",
   "metadata": {},
   "source": [
    "<div class=\"alert alert-block alert-info\">\n",
    "2C. Use Pandas to transform listing other features data for predictions"
   ]
  },
  {
   "cell_type": "code",
   "execution_count": 3,
   "metadata": {},
   "outputs": [],
   "source": [
    "# extract mls id\n",
    "df_other_features['listing_id'] = df_other_features['listing_url'].str.extract(r'[A-Z](\\d{7})', expand=True)\n",
    "\n",
    "# convert dollars to int\n",
    "def convert_dollar_string_to_int(column):\n",
    "    df_other_features[column+'_int'] = df_other_features[column].replace('[\\$,]', '', regex=True).astype(int)\n",
    "\n",
    "convert_dollar_string_to_int('listing_price')\n",
    "convert_dollar_string_to_int('comparable_sold_price_1')\n",
    "convert_dollar_string_to_int('comparable_list_price_1')\n",
    "convert_dollar_string_to_int('comparable_sold_price_2')\n",
    "convert_dollar_string_to_int('comparable_list_price_2')\n",
    "convert_dollar_string_to_int('comparable_sold_price_3')\n",
    "convert_dollar_string_to_int('comparable_list_price_3')\n",
    "convert_dollar_string_to_int('comparable_sold_price_4')\n",
    "convert_dollar_string_to_int('comparable_list_price_4')\n",
    "convert_dollar_string_to_int('comparable_sold_price_5')\n",
    "convert_dollar_string_to_int('comparable_list_price_5')\n",
    "\n",
    "# extract postal code via one-hot encoding\n",
    "# df_other_features['postal_code'] = df_other_features['address'].str.split(',', expand = True)[2].str.split(expand = True)[1]\n",
    "# df_other_features['postal_code_fsa'] = df_other_features['address'].str.split(',', expand = True)[2].str.split(expand = True)[1].astype(str).str[:3]\n",
    "# df_other_features['postal_code_ldu'] = df_other_features['address'].str.split(',', expand = True)[2].str.split(expand = True)[1].astype(str).str[3:]\n",
    "df_series_fsa = df_other_features['address'].str.split(',', expand = True)[2].str.split(expand = True)[1].astype(str).str[:3]\n",
    "\n",
    "df_postal_code_fsa = pd.get_dummies(df_series_fsa)\n",
    "\n",
    "# extract community\n",
    "# df_other_features['community'] = df_other_features['address'].str.split(',', expand = True)[1]\n",
    "df_series_community = df_other_features['address'].str.split(',', expand = True)[1]\n",
    "df_community = pd.get_dummies(df_series_community)\n",
    "\n",
    "# building type\n",
    "# df_other_features['building_type'] = df_other_features['dwelling_type'].str.split(',', expand = True)[0]\n",
    "df_series_building_type = df_other_features['dwelling_type'].str.split(',', expand = True)[0]\n",
    "df_building_type = pd.get_dummies(df_series_building_type)\n",
    "\n",
    "# number of room features\n",
    "df_other_features['main_rooms'] = df_other_features['dwelling_type'].str.split(',', expand = True)[1].str.split(pat = '(\\d+)', expand = True)[1]\n",
    "df_other_features['additional_rooms'] = df_other_features['dwelling_type'].str.split(',', expand = True)[1].str.split(pat = '(\\d+)', expand = True)[3]\n",
    "\n",
    "# change to numbers and fill\n",
    "df_other_features['main_rooms'] = pd.to_numeric(df_other_features.main_rooms).fillna(0).astype(int)\n",
    "df_other_features['additional_rooms'] = pd.to_numeric(df_other_features.additional_rooms).fillna(0).astype(int)\n",
    "\n",
    "# generate total rooms\n",
    "df_other_features['total_rooms'] = df_other_features['main_rooms'] + df_other_features['additional_rooms']\n",
    "\n",
    "# of parking spaces\n",
    "df_other_features['parking_spaces'] = df_other_features['dwelling_type'].str.split(',', expand = True)[2].str.split(pat = 'Parking', expand = True)[0].str.split(pat = 'Kitchen|Kitchens', expand = True)[1]\n",
    "# this coerce may lose us some data as listings with parking space 's1' will be converted to 0\n",
    "df_other_features['parking_spaces'] = pd.to_numeric(df_other_features.parking_spaces, errors='coerce').fillna(0).astype(int)\n",
    "\n",
    "# of kitchens\n",
    "df_other_features['main_kitchen'] = df_other_features['dwelling_type'].str.split(',', expand = True)[2].str.split(pat = 'Parking', expand = True)[0].str.split(pat = 'Kitchen|Kitchens', expand = True)[0].str.split(pat = '+', expand = True)[0]\n",
    "df_other_features['additional_kitchen'] = df_other_features['dwelling_type'].str.split(',', expand = True)[2].str.split(pat = 'Parking', expand = True)[0].str.split(pat = 'Kitchen|Kitchens', expand = True)[0].str.split(pat = '+', expand = True)[1]\n",
    "\n",
    "df_other_features['main_kitchen'] = pd.to_numeric(df_other_features.main_kitchen).fillna(0).astype(int)\n",
    "df_other_features['additional_kitchen'] = pd.to_numeric(df_other_features.additional_kitchen).fillna(0).astype(int)\n",
    "df_other_features['total_kitchens'] = df_other_features['main_kitchen'] + df_other_features['additional_kitchen']\n",
    "\n",
    "# convert string dates to datetime\n",
    "def convert_string_to_date(column):\n",
    "#     df_other_features[column+'_datetime'] = pd.to_datetime(df_other_features[column])\n",
    "    a = pd.to_datetime(df_other_features[column], errors = 'coerce')\n",
    "    df_other_features[column+'_datetime'] = a.apply(lambda x: datetime.datetime.now() - x).astype(int)\n",
    "    \n",
    "convert_string_to_date('comparable_sold_date_1')\n",
    "convert_string_to_date('comparable_sold_date_2')\n",
    "convert_string_to_date('comparable_sold_date_3')\n",
    "convert_string_to_date('comparable_sold_date_4')\n",
    "convert_string_to_date('comparable_sold_date_5')\n",
    "\n",
    "# extras\n",
    "df_other_features['extras_fridge'] = df_other_features['listing_extras'].str.lower().str.contains('fridge').fillna(0).astype(int)\n",
    "df_other_features['extras_stove'] = df_other_features['listing_extras'].str.lower().str.contains('stove').fillna(0).astype(int)\n",
    "df_other_features['extras_stainless_steel'] = df_other_features['listing_extras'].str.lower().str.contains('stainless steel').fillna(0).astype(int)\n",
    "df_other_features['extras_pool'] = df_other_features['listing_extras'].str.lower().str.contains('pool').fillna(0).astype(int)\n",
    "df_other_features['extras_gym'] = df_other_features['listing_extras'].str.lower().str.contains('gym').fillna(0).astype(int)\n",
    "df_other_features['extras_storage'] = df_other_features['listing_extras'].str.lower().str.contains('storage').fillna(0).astype(int)\n",
    "df_other_features['extras_locker'] = df_other_features['listing_extras'].str.lower().str.contains('locker').fillna(0).astype(int)\n",
    "df_other_features['extras_gas'] = df_other_features['listing_extras'].str.lower().str.contains('gas').fillna(0).astype(int)\n",
    "df_other_features['extras_dishwasher'] = df_other_features['listing_extras'].str.lower().str.contains('dishwasher').fillna(0).astype(int)\n",
    "\n",
    "# features\n",
    "df_other_features['features_view'] = df_other_features['listing_features'].str.lower().str.contains('view').fillna(0).astype(int)\n",
    "df_other_features['features_park'] = df_other_features['listing_features'].str.lower().str.contains('park').fillna(0).astype(int)\n",
    "df_other_features['features_public_transit'] = df_other_features['listing_features'].str.lower().str.contains('public transit').fillna(0).astype(int)\n",
    "df_other_features['features_basementbrick'] = df_other_features['listing_features'].str.lower().str.contains('basementbrick').fillna(0).astype(int)\n",
    "df_other_features['features_concrete_exterior'] = df_other_features['listing_features'].str.lower().str.contains('concrete exterior').fillna(0).astype(int)\n",
    "df_other_features['features_hospital'] = df_other_features['listing_features'].str.lower().str.contains('hospital').fillna(0).astype(int)\n",
    "df_other_features['features_library'] = df_other_features['listing_features'].str.lower().str.contains('library').fillna(0).astype(int)\n",
    "\n",
    "# description length\n",
    "df_other_features['listing_description_length'] = df_other_features['listing_description'].str.len().fillna(0).astype(int)"
   ]
  },
  {
   "cell_type": "code",
   "execution_count": 4,
   "metadata": {},
   "outputs": [],
   "source": [
    "# create clean dataset for other features\n",
    "df_other_features_listing_url = df_other_features.iloc[:,0:1]\n",
    "df_other_features_dataset = df_other_features.iloc[:,23:]\n",
    "df_other_features_frames = [df_other_features_listing_url, df_other_features_dataset, df_postal_code_fsa, df_community, df_building_type]\n",
    "df_other_features_dataset = pd.concat(df_other_features_frames, axis=1)"
   ]
  },
  {
   "cell_type": "markdown",
   "metadata": {},
   "source": [
    "<div class=\"alert alert-block alert-info\">\n",
    "2D. Use Pandas to transform rooms features data for predictions"
   ]
  },
  {
   "cell_type": "code",
   "execution_count": 5,
   "metadata": {},
   "outputs": [],
   "source": [
    "# boolean_rooms\n",
    "df_rooms_bool = df_rooms.notna()\n",
    "#select specific rows\n",
    "df_rooms_bool = df_rooms_bool.iloc[:,1:]\n",
    "df_rooms_listing_url = df_rooms.iloc[:,0:1]\n",
    "#join dataframes\n",
    "frames = [df_rooms_listing_url, df_rooms_bool]\n",
    "df_rooms_dataset = pd.concat(frames, axis=1)"
   ]
  },
  {
   "cell_type": "markdown",
   "metadata": {},
   "source": [
    "<div class=\"alert alert-block alert-info\">\n",
    "2E. Join datasets together and write to CSV"
   ]
  },
  {
   "cell_type": "code",
   "execution_count": 6,
   "metadata": {},
   "outputs": [],
   "source": [
    "# Join rooms and other features datasets together\n",
    "df_all_features_dataset = df_other_features_dataset.merge(df_rooms_dataset, on = 'listing_url')"
   ]
  },
  {
   "cell_type": "code",
   "execution_count": 7,
   "metadata": {},
   "outputs": [
    {
     "data": {
      "text/plain": [
       "listing_url                             object\n",
       "listing_id                              object\n",
       "listing_price_int                        int64\n",
       "comparable_sold_price_1_int              int64\n",
       "comparable_list_price_1_int              int64\n",
       "comparable_sold_price_2_int              int64\n",
       "comparable_list_price_2_int              int64\n",
       "comparable_sold_price_3_int              int64\n",
       "comparable_list_price_3_int              int64\n",
       "comparable_sold_price_4_int              int64\n",
       "comparable_list_price_4_int              int64\n",
       "comparable_sold_price_5_int              int64\n",
       "comparable_list_price_5_int              int64\n",
       "main_rooms                               int64\n",
       "additional_rooms                         int64\n",
       "total_rooms                              int64\n",
       "parking_spaces                           int64\n",
       "main_kitchen                             int64\n",
       "additional_kitchen                       int64\n",
       "total_kitchens                           int64\n",
       "comparable_sold_date_1_datetime          int64\n",
       "comparable_sold_date_2_datetime          int64\n",
       "comparable_sold_date_3_datetime          int64\n",
       "comparable_sold_date_4_datetime          int64\n",
       "comparable_sold_date_5_datetime          int64\n",
       "extras_fridge                            int64\n",
       "extras_stove                             int64\n",
       "extras_stainless_steel                   int64\n",
       "extras_pool                              int64\n",
       "extras_gym                               int64\n",
       "extras_storage                           int64\n",
       "extras_locker                            int64\n",
       "extras_gas                               int64\n",
       "extras_dishwasher                        int64\n",
       "features_view                            int64\n",
       "features_park                            int64\n",
       "features_public_transit                  int64\n",
       "features_basementbrick                   int64\n",
       "features_concrete_exterior               int64\n",
       "features_hospital                        int64\n",
       "features_library                         int64\n",
       "listing_description_length               int64\n",
       "000                                      uint8\n",
       "L5E                                      uint8\n",
       "L6V                                      uint8\n",
       "M1B                                      uint8\n",
       "M1C                                      uint8\n",
       "M1E                                      uint8\n",
       "M1G                                      uint8\n",
       "M1H                                      uint8\n",
       "M1J                                      uint8\n",
       "M1K                                      uint8\n",
       "M1L                                      uint8\n",
       "M1M                                      uint8\n",
       "M1N                                      uint8\n",
       "M1P                                      uint8\n",
       "M1R                                      uint8\n",
       "M1S                                      uint8\n",
       "M1T                                      uint8\n",
       "M1V                                      uint8\n",
       "M1W                                      uint8\n",
       "M1X                                      uint8\n",
       "M2H                                      uint8\n",
       "M2J                                      uint8\n",
       "M2K                                      uint8\n",
       "M2L                                      uint8\n",
       "M2M                                      uint8\n",
       "M2N                                      uint8\n",
       "M2P                                      uint8\n",
       "M2R                                      uint8\n",
       "M3A                                      uint8\n",
       "M3B                                      uint8\n",
       "M3C                                      uint8\n",
       "M3H                                      uint8\n",
       "M3J                                      uint8\n",
       "M3K                                      uint8\n",
       "M3L                                      uint8\n",
       "M3M                                      uint8\n",
       "M3N                                      uint8\n",
       "M4A                                      uint8\n",
       "M4B                                      uint8\n",
       "M4C                                      uint8\n",
       "M4E                                      uint8\n",
       "M4G                                      uint8\n",
       "M4H                                      uint8\n",
       "M4J                                      uint8\n",
       "M4K                                      uint8\n",
       "M4L                                      uint8\n",
       "M4M                                      uint8\n",
       "M4N                                      uint8\n",
       "M4P                                      uint8\n",
       "M4R                                      uint8\n",
       "M4S                                      uint8\n",
       "M4T                                      uint8\n",
       "M4V                                      uint8\n",
       "M4W                                      uint8\n",
       "M4X                                      uint8\n",
       "M4Y                                      uint8\n",
       "M5A                                      uint8\n",
       "M5B                                      uint8\n",
       "M5C                                      uint8\n",
       "M5E                                      uint8\n",
       "M5G                                      uint8\n",
       "M5H                                      uint8\n",
       "M5J                                      uint8\n",
       "M5M                                      uint8\n",
       "M5N                                      uint8\n",
       "M5P                                      uint8\n",
       "M5R                                      uint8\n",
       "M5S                                      uint8\n",
       "M5T                                      uint8\n",
       "M5V                                      uint8\n",
       "M6A                                      uint8\n",
       "M6B                                      uint8\n",
       "M6C                                      uint8\n",
       "M6E                                      uint8\n",
       "M6G                                      uint8\n",
       "M6H                                      uint8\n",
       "M6J                                      uint8\n",
       "M6K                                      uint8\n",
       "M6L                                      uint8\n",
       "M6M                                      uint8\n",
       "M6N                                      uint8\n",
       "M6P                                      uint8\n",
       "M6R                                      uint8\n",
       "M6S                                      uint8\n",
       "M8H                                      uint8\n",
       "M8N                                      uint8\n",
       "M8V                                      uint8\n",
       "M8W                                      uint8\n",
       "M8X                                      uint8\n",
       "M8Y                                      uint8\n",
       "M8Z                                      uint8\n",
       "M9A                                      uint8\n",
       "M9B                                      uint8\n",
       "M9C                                      uint8\n",
       "M9L                                      uint8\n",
       "M9M                                      uint8\n",
       "M9N                                      uint8\n",
       "M9P                                      uint8\n",
       "M9R                                      uint8\n",
       "M9V                                      uint8\n",
       "M9W                                      uint8\n",
       "MSK                                      uint8\n",
       "NA                                       uint8\n",
       "ON                                       uint8\n",
       "TBA                                      uint8\n",
       "TSC                                      uint8\n",
       "XXX                                      uint8\n",
       " Agincourt North                         uint8\n",
       " Agincourt South-Malvern West            uint8\n",
       " Alderwood                               uint8\n",
       " Annex                                   uint8\n",
       " Banbury-Don Mills                       uint8\n",
       " Bathurst Manor                          uint8\n",
       " Bay Street Corridor                     uint8\n",
       " Bayview Village                         uint8\n",
       " Bayview Woods-Steeles                   uint8\n",
       " Bedford Park-Nortown                    uint8\n",
       " Beechborough-Greenbrook                 uint8\n",
       " Bendale                                 uint8\n",
       " Birchcliffe-Cliffside                   uint8\n",
       " Black Creek                             uint8\n",
       " Blake-Jones                             uint8\n",
       " Briar Hill-Belgravia                    uint8\n",
       " Bridle Path-Sunnybrook-York Mills       uint8\n",
       " Broadview North                         uint8\n",
       " Brookhaven-Amesbury                     uint8\n",
       " Cabbagetown-South St. James Town        uint8\n",
       " Caledonia-Fairbank                      uint8\n",
       " Casa Loma                               uint8\n",
       " Centennial Scarborough                  uint8\n",
       " Church-Yonge Corridor                   uint8\n",
       " Clairlea-Birchmount                     uint8\n",
       " Clanton Park                            uint8\n",
       " Cliffcrest                              uint8\n",
       " Corso Italia-Davenport                  uint8\n",
       " Crescent Town                           uint8\n",
       " Danforth                                uint8\n",
       " Danforth Village-East York              uint8\n",
       " Don Valley Village                      uint8\n",
       " Dorset Park                             uint8\n",
       " Dovercourt-Wallace Emerson-Junction     uint8\n",
       " Downsview-Roding-CFB                    uint8\n",
       " Dufferin Grove                          uint8\n",
       " East End-Danforth                       uint8\n",
       " East York                               uint8\n",
       " Edenbridge-Humber Valley                uint8\n",
       " Eglinton East                           uint8\n",
       " Elms-Old Rexdale                        uint8\n",
       " Englemount-Lawrence                     uint8\n",
       " Eringate-Centennial-West Deane          uint8\n",
       " Etobicoke West Mall                     uint8\n",
       " Flemingdon Park                         uint8\n",
       " Forest Hill North                       uint8\n",
       " Forest Hill South                       uint8\n",
       " Glenfield-Jane Heights                  uint8\n",
       " Greenwood-Coxwell                       uint8\n",
       " Guildwood                               uint8\n",
       " Henry Farm                              uint8\n",
       " High Park North                         uint8\n",
       " High Park-Swansea                       uint8\n",
       " Highland Creek                          uint8\n",
       " Hillcrest Village                       uint8\n",
       " Humber Heights                          uint8\n",
       " Humber Summit                           uint8\n",
       " Humberlea-Pelmo Park W4                 uint8\n",
       " Humberlea-Pelmo Park W5                 uint8\n",
       " Humbermede                              uint8\n",
       " Humewood-Cedarvale                      uint8\n",
       " Ionview                                 uint8\n",
       " Islington-City Centre West              uint8\n",
       " Junction Area                           uint8\n",
       " Keelesdale-Eglinton West                uint8\n",
       " Kennedy Park                            uint8\n",
       " Kensington-Chinatown                    uint8\n",
       " Kingsview Village-The Westway           uint8\n",
       " Kingsway South                          uint8\n",
       " L'Amoreaux                              uint8\n",
       " Lambton Baby Point                      uint8\n",
       " Lansing-Westgate                        uint8\n",
       " Lawrence Park North                     uint8\n",
       " Lawrence Park South                     uint8\n",
       " Leaside                                 uint8\n",
       " Little Portugal                         uint8\n",
       " Long Branch                             uint8\n",
       " Malvern                                 uint8\n",
       " Maple Leaf                              uint8\n",
       " Markland Wood                           uint8\n",
       " Milliken                                uint8\n",
       " Mimico                                  uint8\n",
       " Morningside                             uint8\n",
       " Moss Park                               uint8\n",
       " Mount Dennis                            uint8\n",
       " Mount Olive-Silverstone-Jamestown       uint8\n",
       " Mount Pleasant East                     uint8\n",
       " Mount Pleasant West                     uint8\n",
       " New Toronto                             uint8\n",
       " Newtonbrook East                        uint8\n",
       " Newtonbrook West                        uint8\n",
       " Niagara                                 uint8\n",
       " North Riverdale                         uint8\n",
       " North St. James Town                    uint8\n",
       " O'Connor-Parkview                       uint8\n",
       " Oakridge                                uint8\n",
       " Oakwood-Vaughan                         uint8\n",
       " Palmerston-Little Italy                 uint8\n",
       " Parkwoods-Donalda                       uint8\n",
       " Playter Estates-Danforth                uint8\n",
       " Pleasant View                           uint8\n",
       " Princess-Rosethorn                      uint8\n",
       " Regent Park                             uint8\n",
       " Rexdale-Kipling                         uint8\n",
       " Rockcliffe-Smythe                       uint8\n",
       " Roncesvalles                            uint8\n",
       " Rosedale-Moore Park                     uint8\n",
       " Rouge E10                               uint8\n",
       " Rouge E11                               uint8\n",
       " Runnymede-Bloor West Village            uint8\n",
       " Rustic                                  uint8\n",
       " Scarborough Village                     uint8\n",
       " South Parkdale                          uint8\n",
       " South Riverdale                         uint8\n",
       " St. Andrew-Windfields                   uint8\n",
       " Steeles                                 uint8\n",
       " Stonegate-Queensway                     uint8\n",
       " Tam O'Shanter-Sullivan                  uint8\n",
       " The Beaches                             uint8\n",
       " Thistletown-Beaumonde Heights           uint8\n",
       " Thorncliffe Park                        uint8\n",
       " Trinity-Bellwoods                       uint8\n",
       " University                              uint8\n",
       " Victoria Village                        uint8\n",
       " Waterfront Communities C1               uint8\n",
       " Waterfront Communities C8               uint8\n",
       " West Hill                               uint8\n",
       " West Humber-Clairville                  uint8\n",
       " Westminster-Branson                     uint8\n",
       " Weston                                  uint8\n",
       " Weston-Pellam Park                      uint8\n",
       " Wexford-Maryvale                        uint8\n",
       " Willowdale East                         uint8\n",
       " Willowdale West                         uint8\n",
       " Willowridge-Martingrove-Richview        uint8\n",
       " Woburn                                  uint8\n",
       " Woodbine Corridor                       uint8\n",
       " Woodbine-Lumsden                        uint8\n",
       " Wychwood                                uint8\n",
       " Yonge-Eglinton                          uint8\n",
       " Yonge-St. Clair                         uint8\n",
       " York University Heights                 uint8\n",
       " Yorkdale-Glen Park                      uint8\n",
       "1 1/2 Storey                             uint8\n",
       "2 1/2 Storey                             uint8\n",
       "2-Storey                                 uint8\n",
       "3-Storey                                 uint8\n",
       "Apartment                                uint8\n",
       "Bachelor/Studio                          uint8\n",
       "Backsplit 3                              uint8\n",
       "Backsplit 4                              uint8\n",
       "Backsplit 5                              uint8\n",
       "Bungaloft                                uint8\n",
       "Bungalow                                 uint8\n",
       "Bungalow-Raised                          uint8\n",
       "Locker0 Parking Space                    uint8\n",
       "Loft                                     uint8\n",
       "Multi-Level                              uint8\n",
       "Other                                    uint8\n",
       "Parking Space0 Parking Space             uint8\n",
       "Parking Space1 Parking Space             uint8\n",
       "Sidesplit 3                              uint8\n",
       "Sidesplit 4                              uint8\n",
       "Sidesplit 5                              uint8\n",
       "Stacked Townhse                          uint8\n",
       "Vacant Land0 Parking Space               uint8\n",
       "Vacant Land1 Parking Space               uint8\n",
       "Vacant Land4 Parking Spaces              uint8\n",
       "OFFICE                                    bool\n",
       "FAMILY ROOM                               bool\n",
       "DINING ROOM                               bool\n",
       "DEN                                       bool\n",
       "REC                                       bool\n",
       "FOYER                                     bool\n",
       "2ND BEDROOM                               bool\n",
       "BATHROOM                                  bool\n",
       "BATHROOMS                                 bool\n",
       "LIBRARY                                   bool\n",
       "EXERCISE                                  bool\n",
       "KITCHEN                                   bool\n",
       "LIVING ROOM                               bool\n",
       "MASTER BEDROOM                            bool\n",
       "STUDY                                     bool\n",
       "4TH BEDROOM                               bool\n",
       "3RD BEDROOM                               bool\n",
       "OTHER                                     bool\n",
       "LEGAL DESCRIPTION                         bool\n",
       "5TH BEDROOM                               bool\n",
       "SUNROOM                                   bool\n",
       "GREAT ROOM                                bool\n",
       "LAUNDRY                                   bool\n",
       "SITTING                                   bool\n",
       "SOLARIUM                                  bool\n",
       "LOCKER                                    bool\n",
       "BEDROOM                                   bool\n",
       "BREAKFAST                                 bool\n",
       "MEDIA/ENT                                 bool\n",
       "UTILITY                                   bool\n",
       "dtype: object"
      ]
     },
     "execution_count": 7,
     "metadata": {},
     "output_type": "execute_result"
    }
   ],
   "source": [
    "# Check data types of all features\n",
    "pd.set_option('display.max_rows', 500)\n",
    "df_all_features_dataset.dtypes"
   ]
  },
  {
   "cell_type": "code",
   "execution_count": 8,
   "metadata": {},
   "outputs": [],
   "source": [
    "# Write to CSV\n",
    "df_all_features_dataset.to_csv('cleaned_combined_listing_features_v1.csv')"
   ]
  },
  {
   "cell_type": "code",
   "execution_count": null,
   "metadata": {},
   "outputs": [],
   "source": []
  },
  {
   "cell_type": "code",
   "execution_count": 285,
   "metadata": {},
   "outputs": [],
   "source": []
  },
  {
   "cell_type": "code",
   "execution_count": 286,
   "metadata": {},
   "outputs": [],
   "source": [
    "x = df_all_features_dataset\n",
    "x.head()\n",
    "x = df_all_features_dataset.iloc[:,3:]\n",
    "y = df_all_features_dataset['listing_price_int']"
   ]
  },
  {
   "cell_type": "code",
   "execution_count": 288,
   "metadata": {},
   "outputs": [],
   "source": [
    "# Create model\n",
    "lm = linear_model.LinearRegression()\n",
    "model = lm.fit(x,y)"
   ]
  },
  {
   "cell_type": "code",
   "execution_count": 289,
   "metadata": {},
   "outputs": [
    {
     "name": "stdout",
     "output_type": "stream",
     "text": [
      "[ 653818.97310888  454684.17603388  624876.90133691  950296.04379923\n",
      "  790803.57326784 1087296.49442019  402155.61275966 1430847.26785217\n",
      " 1598437.97814546  448151.02919796]\n"
     ]
    }
   ],
   "source": [
    "# Make some predictions\n",
    "predictions = lm.predict(x)\n",
    "print(predictions)[0:10]"
   ]
  },
  {
   "cell_type": "code",
   "execution_count": 290,
   "metadata": {},
   "outputs": [
    {
     "data": {
      "text/plain": [
       "0     899900\n",
       "1     425000\n",
       "2     479900\n",
       "3     949000\n",
       "4     680000\n",
       "5     799000\n",
       "6     349900\n",
       "7    1878000\n",
       "8    1999000\n",
       "9     549000\n",
       "Name: listing_price_int, dtype: int64"
      ]
     },
     "execution_count": 290,
     "metadata": {},
     "output_type": "execute_result"
    }
   ],
   "source": [
    "# Actual listing prices\n",
    "y.head(10)"
   ]
  },
  {
   "cell_type": "code",
   "execution_count": 291,
   "metadata": {},
   "outputs": [
    {
     "data": {
      "text/plain": [
       "0.6719553386883852"
      ]
     },
     "execution_count": 291,
     "metadata": {},
     "output_type": "execute_result"
    }
   ],
   "source": [
    "# r squared score for model\n",
    "lm.score(x,y)"
   ]
  },
  {
   "cell_type": "code",
   "execution_count": 292,
   "metadata": {},
   "outputs": [],
   "source": []
  },
  {
   "cell_type": "code",
   "execution_count": 293,
   "metadata": {},
   "outputs": [],
   "source": [
    "# Create training and test dataset\n",
    "# train, test = train_test_split(df_all_features_dataset, test_size=0.3)\n",
    "\n",
    "\n",
    "# Labels are the values we want to predict\n",
    "labels = np.array(df_all_features_dataset['listing_price_int'])\n",
    "# Remove the labels from the features\n",
    "# axis 1 refers to the columns\n",
    "features = df_all_features_dataset.drop('listing_price_int', axis = 1).drop('listing_url', axis = 1)\n",
    "# Saving feature names for later use\n",
    "feature_list = list(features.columns)\n",
    "# Convert to numpy array\n",
    "features = np.array(features)\n",
    "\n",
    "train_features, test_features, train_labels, test_labels = train_test_split(features, labels, test_size = 0.25, random_state = 42)"
   ]
  },
  {
   "cell_type": "code",
   "execution_count": 294,
   "metadata": {},
   "outputs": [],
   "source": [
    "# Instantiate model with 1000 decision trees\n",
    "rf = RandomForestRegressor(n_estimators = 1000, random_state = 42)"
   ]
  },
  {
   "cell_type": "code",
   "execution_count": 295,
   "metadata": {},
   "outputs": [
    {
     "data": {
      "text/plain": [
       "RandomForestRegressor(bootstrap=True, criterion='mse', max_depth=None,\n",
       "           max_features='auto', max_leaf_nodes=None,\n",
       "           min_impurity_split=1e-07, min_samples_leaf=1,\n",
       "           min_samples_split=2, min_weight_fraction_leaf=0.0,\n",
       "           n_estimators=1000, n_jobs=1, oob_score=False, random_state=42,\n",
       "           verbose=0, warm_start=False)"
      ]
     },
     "execution_count": 295,
     "metadata": {},
     "output_type": "execute_result"
    }
   ],
   "source": [
    "# Train the model on training data\n",
    "rf.fit(train_features, train_labels)"
   ]
  },
  {
   "cell_type": "code",
   "execution_count": 296,
   "metadata": {},
   "outputs": [],
   "source": [
    "# Use the forest's predict method on the test data\n",
    "predictions = rf.predict(test_features)\n",
    "# Calculate the absolute errors\n",
    "# errors = abs(predictions - test_labels)\n",
    "# Print out the mean absolute error (mae)\n",
    "# print('Mean Absolute Error:', round(np.mean(errors), 2), 'degrees.')\n",
    "# Mean Absolute Error: 3.83 degrees."
   ]
  },
  {
   "cell_type": "code",
   "execution_count": 297,
   "metadata": {},
   "outputs": [
    {
     "data": {
      "text/plain": [
       "array([328561.421, 683096.068, 487202.397, 427464.975, 491474.355])"
      ]
     },
     "execution_count": 297,
     "metadata": {},
     "output_type": "execute_result"
    }
   ],
   "source": [
    "predictions[:5]"
   ]
  },
  {
   "cell_type": "code",
   "execution_count": 300,
   "metadata": {},
   "outputs": [
    {
     "data": {
      "text/plain": [
       "array([269900, 725000, 519900, 399950, 488000])"
      ]
     },
     "execution_count": 300,
     "metadata": {},
     "output_type": "execute_result"
    }
   ],
   "source": [
    "test_labels[:5]"
   ]
  },
  {
   "cell_type": "code",
   "execution_count": 302,
   "metadata": {},
   "outputs": [],
   "source": [
    "# !pip install geopy\n",
    "\n",
    "# from geopy.geocoders import Nominatim\n",
    "# geolocator = Nominatim(user_agent=\"specify_your_app_name_here\")\n",
    "# location = geolocator.geocode(\"88 Park Lawn Rd 2717, Mimico, Toronto M8Y0B5\")\n",
    "# print(location.address)\n",
    "# print((location.latitude, location.longitude))"
   ]
  },
  {
   "cell_type": "code",
   "execution_count": 303,
   "metadata": {},
   "outputs": [],
   "source": [
    "# find the term Lot Size\n",
    "# soup.find(\"div\", {\"class\": \"lpc15\"}).findNext(\"div\", {\"class\": \"lpc15\"}).findNext(\"div\", {\"class\": \"lpc15\"}).find_previous_sibling()\n",
    "# soup.find('div', attrs={'style': 'color: #3a5fac; padding-top: 5px; font-size: 18px; '})"
   ]
  }
 ],
 "metadata": {
  "kernelspec": {
   "display_name": "Python 2",
   "language": "python",
   "name": "python2"
  },
  "language_info": {
   "codemirror_mode": {
    "name": "ipython",
    "version": 2
   },
   "file_extension": ".py",
   "mimetype": "text/x-python",
   "name": "python",
   "nbconvert_exporter": "python",
   "pygments_lexer": "ipython2",
   "version": "2.7.13"
  }
 },
 "nbformat": 4,
 "nbformat_minor": 2
}
